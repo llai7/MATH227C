{
  "cells": [
    {
      "cell_type": "markdown",
      "metadata": {
        "id": "view-in-github",
        "colab_type": "text"
      },
      "source": [
        "<a href=\"https://colab.research.google.com/github/llai7/MATH227C/blob/main/Math227C20Sp_P09_LuluLai.ipynb\" target=\"_parent\"><img src=\"https://colab.research.google.com/assets/colab-badge.svg\" alt=\"Open In Colab\"/></a>"
      ]
    },
    {
      "cell_type": "markdown",
      "metadata": {
        "id": "aYjK13B0y0Ke"
      },
      "source": [
        "# Problem Set 9\n",
        "\n",
        "## Example: predicting colon cancer from stool microbiome composition"
      ]
    },
    {
      "cell_type": "code",
      "execution_count": null,
      "metadata": {
        "id": "aFX-udNxy0Kf"
      },
      "outputs": [],
      "source": [
        "# plot settings\n",
        "options(repr.plot.width=15, repr.plot.height=10)"
      ]
    },
    {
      "cell_type": "code",
      "execution_count": 1,
      "metadata": {
        "id": "uOrr13zhy0Kp",
        "outputId": "700dc5ab-5366-416e-b5e6-0d607bba8ba8",
        "colab": {
          "base_uri": "https://localhost:8080/"
        }
      },
      "outputs": [
        {
          "output_type": "stream",
          "name": "stderr",
          "text": [
            "Installing package into ‘/usr/local/lib/R/site-library’\n",
            "(as ‘lib’ is unspecified)\n",
            "\n",
            "'getOption(\"repos\")' replaces Bioconductor standard repositories, see\n",
            "'?repositories' for details\n",
            "\n",
            "replacement repositories:\n",
            "    CRAN: https://cran.rstudio.com\n",
            "\n",
            "\n",
            "Bioconductor version 3.15 (BiocManager 1.30.18), R 4.2.0 (2022-04-22)\n",
            "\n",
            "Installing package(s) 'BiocVersion'\n",
            "\n",
            "Old packages: 'openssl', 'roxygen2', 'tinytex', 'usethis', 'xfun'\n",
            "\n",
            "'getOption(\"repos\")' replaces Bioconductor standard repositories, see\n",
            "'?repositories' for details\n",
            "\n",
            "replacement repositories:\n",
            "    CRAN: https://cran.rstudio.com\n",
            "\n",
            "\n",
            "Bioconductor version 3.15 (BiocManager 1.30.18), R 4.2.0 (2022-04-22)\n",
            "\n",
            "Installing package(s) 'ExperimentHub'\n",
            "\n",
            "also installing the dependencies ‘bitops’, ‘zlibbioc’, ‘RCurl’, ‘GenomeInfoDbData’, ‘XVector’, ‘GenomeInfoDb’, ‘lazyeval’, ‘png’, ‘Biostrings’, ‘httpuv’, ‘xtable’, ‘fontawesome’, ‘sourcetools’, ‘later’, ‘promises’, ‘htmlwidgets’, ‘crosstalk’, ‘Rcpp’, ‘plogr’, ‘Biobase’, ‘IRanges’, ‘KEGGREST’, ‘shiny’, ‘DT’, ‘RSQLite’, ‘AnnotationDbi’, ‘interactiveDisplayBase’, ‘filelock’, ‘BiocGenerics’, ‘AnnotationHub’, ‘BiocFileCache’, ‘S4Vectors’\n",
            "\n",
            "\n",
            "Old packages: 'openssl', 'roxygen2', 'tinytex', 'usethis', 'xfun'\n",
            "\n",
            "Installing package into ‘/usr/local/lib/R/site-library’\n",
            "(as ‘lib’ is unspecified)\n",
            "\n",
            "also installing the dependencies ‘iterators’, ‘foreach’, ‘shape’, ‘RcppEigen’\n",
            "\n",
            "\n"
          ]
        }
      ],
      "source": [
        "# Install a package BioConductor ExperimentHub to access the example data\n",
        "if (!requireNamespace(\"BiocManager\", quietly = TRUE))\n",
        "    install.packages(\"BiocManager\")\n",
        "BiocManager::install()\n",
        "BiocManager::install(\"ExperimentHub\")\n",
        "\n",
        "# Install glmnet for LASSO and Elastic Net regression\n",
        "install.packages(\"glmnet\")"
      ]
    },
    {
      "cell_type": "code",
      "execution_count": 2,
      "metadata": {
        "id": "H-xj8QgFy0Kq",
        "outputId": "62229138-d6e0-40f6-ea3d-fbb2a291856e",
        "colab": {
          "base_uri": "https://localhost:8080/"
        }
      },
      "outputs": [
        {
          "output_type": "stream",
          "name": "stderr",
          "text": [
            "Loading required package: Matrix\n",
            "\n",
            "Loaded glmnet 4.1-4\n",
            "\n"
          ]
        }
      ],
      "source": [
        "\n",
        "library(\"BiocManager\")\n",
        "library(\"glmnet\")\n"
      ]
    },
    {
      "cell_type": "code",
      "execution_count": 3,
      "metadata": {
        "id": "JXaHP5TQy0Kq",
        "outputId": "c3ed779f-4aa3-44b1-f785-5dc84cc3a697",
        "colab": {
          "base_uri": "https://localhost:8080/"
        }
      },
      "outputs": [
        {
          "output_type": "stream",
          "name": "stderr",
          "text": [
            "Loading required package: BiocGenerics\n",
            "\n",
            "\n",
            "Attaching package: ‘BiocGenerics’\n",
            "\n",
            "\n",
            "The following objects are masked from ‘package:stats’:\n",
            "\n",
            "    IQR, mad, sd, var, xtabs\n",
            "\n",
            "\n",
            "The following objects are masked from ‘package:base’:\n",
            "\n",
            "    anyDuplicated, append, as.data.frame, basename, cbind, colnames,\n",
            "    dirname, do.call, duplicated, eval, evalq, Filter, Find, get, grep,\n",
            "    grepl, intersect, is.unsorted, lapply, Map, mapply, match, mget,\n",
            "    order, paste, pmax, pmax.int, pmin, pmin.int, Position, rank,\n",
            "    rbind, Reduce, rownames, sapply, setdiff, sort, table, tapply,\n",
            "    union, unique, unsplit, which.max, which.min\n",
            "\n",
            "\n",
            "Loading required package: AnnotationHub\n",
            "\n",
            "Loading required package: BiocFileCache\n",
            "\n",
            "Loading required package: dbplyr\n",
            "\n",
            "snapshotDate(): 2022-04-26\n",
            "\n",
            "'getOption(\"repos\")' replaces Bioconductor standard repositories, see\n",
            "'?repositories' for details\n",
            "\n",
            "replacement repositories:\n",
            "    CRAN: https://cran.rstudio.com\n",
            "\n",
            "\n",
            "Bioconductor version 3.15 (BiocManager 1.30.18), R 4.2.0 (2022-04-22)\n",
            "\n",
            "Installing package(s) 'curatedMetagenomicData'\n",
            "\n",
            "also installing the dependencies ‘formatR’, ‘lambda.r’, ‘futile.options’, ‘yulab.utils’, ‘plyr’, ‘RcppHNSW’, ‘ScaledMatrix’, ‘irlba’, ‘rsvd’, ‘beeswarm’, ‘vipor’, ‘matrixStats’, ‘futile.logger’, ‘snow’, ‘BH’, ‘tidytree’, ‘reshape2’, ‘permute’, ‘sparseMatrixStats’, ‘beachmat’, ‘gridExtra’, ‘BiocNeighbors’, ‘BiocSingular’, ‘ggbeeswarm’, ‘viridis’, ‘Rtsne’, ‘RcppML’, ‘ggrepel’, ‘MatrixGenerics’, ‘GenomicRanges’, ‘DelayedArray’, ‘SingleCellExperiment’, ‘ape’, ‘BiocParallel’, ‘treeio’, ‘MultiAssayExperiment’, ‘decontam’, ‘vegan’, ‘DECIPHER’, ‘DelayedMatrixStats’, ‘scuttle’, ‘scater’, ‘DirichletMultinomial’, ‘SummarizedExperiment’, ‘TreeSummarizedExperiment’, ‘mia’\n",
            "\n",
            "\n",
            "Warning message in install.packages(...):\n",
            "“installation of package ‘DirichletMultinomial’ had non-zero exit status”\n",
            "Warning message in install.packages(...):\n",
            "“installation of package ‘scater’ had non-zero exit status”\n",
            "Warning message in install.packages(...):\n",
            "“installation of package ‘mia’ had non-zero exit status”\n",
            "Warning message in install.packages(...):\n",
            "“installation of package ‘curatedMetagenomicData’ had non-zero exit status”\n",
            "Old packages: 'openssl', 'roxygen2', 'tinytex', 'usethis', 'xfun'\n",
            "\n",
            "downloading 1 resources\n",
            "\n",
            "retrieving 1 resource\n",
            "\n",
            "loading from cache\n",
            "\n",
            "require(“Biobase”)\n",
            "\n"
          ]
        }
      ],
      "source": [
        "library(\"ExperimentHub\")\n",
        "\n",
        "eh = ExperimentHub()\n",
        "data = eh[[\"EH361\"]]\n"
      ]
    },
    {
      "cell_type": "markdown",
      "metadata": {
        "id": "DtdkT_4py0Kq"
      },
      "source": [
        "## 1. Explore the data set\n",
        "\n",
        "Explore our data set. The rows are the presence of microbes in the gut. They also contain the presence of cancer. The columns represent different patients. \n",
        "\n",
        "__i) How many patients are in the data set?__\n",
        "\n",
        "__ii) How many species of microbe are in the data set?__\n",
        "\n",
        "There are possible 3 disease states. Create a data set with only patients who are either \"N\" (No cancer) or \"cancer\" (cancer). In other words, remove the patiends with adenomas.\n",
        "\n",
        "__iii) After removing the patients with adenomas, how many patients are in the data set?__"
      ]
    },
    {
      "cell_type": "code",
      "execution_count": null,
      "metadata": {
        "id": "p06vtx5Ny0Kr",
        "outputId": "abb34c98-02fc-44b4-8700-d112f7c09a92",
        "colab": {
          "base_uri": "https://localhost:8080/"
        }
      },
      "outputs": [
        {
          "output_type": "stream",
          "name": "stdout",
          "text": [
            "[1] \"There are 156 patients.\"\n"
          ]
        }
      ],
      "source": [
        "print(paste('There are',ncol(data),'patients.' ,sep=' '))"
      ]
    },
    {
      "cell_type": "code",
      "source": [
        "print(paste('There are',nrow(data),'species of microbe in the data set.' ,sep=' '))"
      ],
      "metadata": {
        "id": "QH1p8Aa-2Aw1",
        "outputId": "6cef78b7-cc57-4470-da89-82dc64517414",
        "colab": {
          "base_uri": "https://localhost:8080/"
        }
      },
      "execution_count": null,
      "outputs": [
        {
          "output_type": "stream",
          "name": "stdout",
          "text": [
            "[1] \"There are 1505 species of microbe in the data set.\"\n"
          ]
        }
      ]
    },
    {
      "cell_type": "markdown",
      "metadata": {
        "id": "uOoYvPVhy0Kr"
      },
      "source": [
        "For simplicity, let's only use the \"n\" and \"cancer\" states (and remove the adenomas).\n"
      ]
    },
    {
      "cell_type": "code",
      "execution_count": 5,
      "metadata": {
        "id": "LJq-aTcAy0Ks",
        "outputId": "c79f6ff9-2608-4cfc-e242-ce7803a15489",
        "colab": {
          "base_uri": "https://localhost:8080/"
        }
      },
      "outputs": [
        {
          "output_type": "stream",
          "name": "stdout",
          "text": [
            "[1] \"There are 114 patients in the data set now.\"\n"
          ]
        }
      ],
      "source": [
        "dataCancerNoCancer = data[, data$disease %in% c(\"n\", \"cancer\")]\n",
        "\n",
        "#print(paste('There are',ncol(dataCancerNoCancer),'patients in the data set now.' ,sep=' '))"
      ]
    },
    {
      "cell_type": "markdown",
      "metadata": {
        "id": "l8GyVOj7y0Ks"
      },
      "source": [
        "## 2. Lasso regression\n",
        "Let's perform lasso regression. In this case, the response variable is categorical (cancer or no cancer) so we can use a binomial model, which is a subset of logistic models. \n",
        "\n",
        "__i) According to the crossvalidation analysis, how many species of microbe should we include in a predictive model of colon cancer?__"
      ]
    },
    {
      "cell_type": "code",
      "execution_count": 62,
      "metadata": {
        "id": "muESqbTey0Ks"
      },
      "outputs": [],
      "source": [
        "y = factor(dataCancerNoCancer$disease)\n",
        "x = t(exprs(dataCancerNoCancer))\n",
        "\n",
        "lassoFit = glmnet(y=y, x=x, family=\"binomial\")\n",
        "\n",
        "#plot(lassoFit, xvar = \"lambda\", label = TRUE)\n"
      ]
    },
    {
      "cell_type": "code",
      "execution_count": 63,
      "metadata": {
        "id": "D7VqbgMHy0Ks",
        "colab": {
          "base_uri": "https://localhost:8080/",
          "height": 437
        },
        "outputId": "6618eb11-a21b-4702-ab5c-5053e52c89ff"
      },
      "outputs": [
        {
          "output_type": "display_data",
          "data": {
            "text/plain": [
              "plot without title"
            ],
            "image/png": "[encoded data removed]"
          },
          "metadata": {
            "image/png": {
              "width": 420,
              "height": 420
            }
          }
        }
      ],
      "source": [
        "set.seed(1)\n",
        "crossValidationOutput <- cv.glmnet(y=factor(dataCancerNoCancer$disease),\n",
        "                                   x=t(exprs(dataCancerNoCancer)), family=\"binomial\")\n",
        "\n",
        "plot(crossValidationOutput)"
      ]
    },
    {
      "cell_type": "code",
      "execution_count": 64,
      "metadata": {
        "id": "ZfJs-Hauy0Kt"
      },
      "outputs": [],
      "source": [
        "bestLambda = crossValidationOutput$lambda.min\n",
        "confusionMatrix = predict(lassoFit, newx = t(exprs(dataCancerNoCancer)), type=\"class\",s=bestLambda)"
      ]
    },
    {
      "cell_type": "code",
      "source": [
        "sum(coef(lassoFit, s = bestLambda) != 0)"
      ],
      "metadata": {
        "colab": {
          "base_uri": "https://localhost:8080/",
          "height": 34
        },
        "id": "DGjDqA1x_EZ2",
        "outputId": "6e81f66e-d388-4c6a-ebc5-aa01be1f400f"
      },
      "execution_count": 65,
      "outputs": [
        {
          "output_type": "display_data",
          "data": {
            "text/html": [
              "47"
            ],
            "text/markdown": "47",
            "text/latex": "47",
            "text/plain": [
              "[1] 47"
            ]
          },
          "metadata": {}
        }
      ]
    },
    {
      "cell_type": "markdown",
      "source": [
        "According to the cross validation, 47 species of microbes should be included."
      ],
      "metadata": {
        "id": "kb-S4IfGAnQa"
      }
    },
    {
      "cell_type": "markdown",
      "metadata": {
        "id": "1rI9Pvnzy0Kt"
      },
      "source": [
        "ii) Write code to extract the number of false positives (non-cancer patients that are predicted to have cancer) and false negatives (cancer patients that are predicted to not have cancer)."
      ]
    },
    {
      "cell_type": "code",
      "source": [
        "table( Predictions=confusionMatrix,TrueValues=dataCancerNoCancer$disease)"
      ],
      "metadata": {
        "colab": {
          "base_uri": "https://localhost:8080/",
          "height": 88
        },
        "id": "_umXZ1mGB_rp",
        "outputId": "d7a99527-30a2-4fb4-8aa5-e43e87799f7f"
      },
      "execution_count": 66,
      "outputs": [
        {
          "output_type": "display_data",
          "data": {
            "text/plain": [
              "           TrueValues\n",
              "Predictions cancer  n\n",
              "     cancer     44  2\n",
              "     n           9 59"
            ]
          },
          "metadata": {}
        }
      ]
    },
    {
      "cell_type": "markdown",
      "source": [
        "According to the matrix, there are 2 false positives and 9 false negatives."
      ],
      "metadata": {
        "id": "WMsa-DU6Cyno"
      }
    },
    {
      "cell_type": "markdown",
      "metadata": {
        "id": "GIY9dbtGy0Kt"
      },
      "source": [
        "## 3.  Elastic Net regression\n",
        "\n",
        "The characteristic feature of Ridge regression is the penalty\n",
        "\n",
        "$$\\mbox{log}\\left(L(\\beta)\\right) - \\lambda \\sum_i  \\beta_i ^2,$$\n",
        "\n",
        "while the penalty for Lasso regression is\n",
        "\n",
        "$$\\mbox{log}\\left(L(\\beta)\\right) - \\lambda \\sum_i | \\beta_i |.$$\n",
        "\n",
        "In this Problem Set, we explore the penalty\n",
        "\n",
        "$$\\mbox{log}\\left(L(\\beta)\\right) - \\lambda \\left(\\alpha \\sum_i | \\beta_i | +  (1-\\alpha) \\sum_i  \\beta_i ^2\\right),$$\n",
        "\n",
        "which is called __Elastic Net__.  \n",
        "\n",
        "i) In parameter space, Ridge Regression corresponds to finding optimal parameters on a circle, while LASSO regression corresponds to finding optimal parameters on a diamond. What shape does Elastic Net correspond to?"
      ]
    },
    {
      "cell_type": "markdown",
      "metadata": {
        "id": "nBbLyftLy0Ku"
      },
      "source": [
        "It would be between a diamond and a circle, so square-ish circle."
      ]
    },
    {
      "cell_type": "markdown",
      "metadata": {
        "id": "F5V_0JEVy0Ku"
      },
      "source": [
        "ii). The `glmnet` package was built for Elastic Net regression. Look up the [glmnet package help files](https://www.rdocumentation.org/packages/glmnet/versions/3.0-2/topics/glmnet) to find out how to perform Elastic Net regression for a specific $\\alpha$. Do this for $\\alpha=0.5$, and return the confusion matrix."
      ]
    },
    {
      "cell_type": "code",
      "execution_count": 68,
      "metadata": {
        "id": "j57Ehz1Gy0Ku",
        "colab": {
          "base_uri": "https://localhost:8080/",
          "height": 88
        },
        "outputId": "9a15d404-a964-4f70-cf53-85e9bae59b6c"
      },
      "outputs": [
        {
          "output_type": "display_data",
          "data": {
            "text/plain": [
              "               \n",
              "confusionMatrix cancer  n\n",
              "         cancer     47  1\n",
              "         n           6 60"
            ]
          },
          "metadata": {}
        }
      ],
      "source": [
        "enr <- glmnet(y=factor(dataCancerNoCancer$disease),\n",
        "                                   x=t(exprs(dataCancerNoCancer)), family=\"binomial\",  alpha=0.5)\n",
        "crossValidationOutput <- cv.glmnet(y=factor(dataCancerNoCancer$disease),\n",
        "                                   x=t(exprs(dataCancerNoCancer)), family=\"binomial\",  alpha=0.5)\n",
        "bestLambda = crossValidationOutput$lambda.min\n",
        "confusionMatrix = predict(enr, newx = t(exprs(dataCancerNoCancer)), type=\"class\",s=bestLambda)\n",
        "table(confusionMatrix,dataCancerNoCancer$disease)"
      ]
    },
    {
      "cell_type": "markdown",
      "metadata": {
        "id": "xkxPlzkhy0Ku"
      },
      "source": [
        "iii) Perform a sweep over $\\alpha=0$ to $\\alpha=1$. Plot the number of species included versus $\\alpha$.\n",
        "\n",
        "Hint: The cv.glmnet output object has a returns a value `$nzero`, which is the number of nonzero factors, which is the number of species desired.  "
      ]
    },
    {
      "cell_type": "code",
      "execution_count": 94,
      "metadata": {
        "id": "sg3ZnCA9y0Ku"
      },
      "outputs": [],
      "source": [
        "false_pos <- list()\n",
        "false_neg <- list()\n",
        "n_species <- list()\n",
        "\n",
        "for (i in seq(0, 1, by = 0.05)) {\n",
        "  enr2 = glmnet(y=factor(dataCancerNoCancer$disease),\n",
        "                                   x=t(exprs(dataCancerNoCancer)),family=\"binomial\",alpha = i)\n",
        "  crossValidationOutput <- cv.glmnet(y=factor(dataCancerNoCancer$disease),\n",
        "                                   x=t(exprs(dataCancerNoCancer)), family=\"binomial\",  alpha=i)\n",
        "  bestLambda = crossValidationOutput$lambda.min\n",
        "\n",
        "  n <- sum(coef(lassoFit, s = bestLambda) != 0)\n",
        "  n_species <- c(n_species,n)\n",
        "  confusionMatrix = predict(enr, newx = t(exprs(dataCancerNoCancer)), type=\"class\",s=bestLambda)\n",
        "  tab <- table(Predictions=confusionMatrix,TrueValues=dataCancerNoCancer$disease)\n",
        "    false_pos <- c(false_pos,as.list(tab)[3])\n",
        "    false_neg <- c(false_neg,as.list(tab)[2])\n",
        "\n",
        "}"
      ]
    },
    {
      "cell_type": "code",
      "source": [
        "false_pos[false_pos=='NULL'] <- 0\n",
        "false_neg[false_neg=='NULL'] <- 0"
      ],
      "metadata": {
        "id": "p9pSOEs1lhq7"
      },
      "execution_count": 95,
      "outputs": []
    },
    {
      "cell_type": "code",
      "source": [
        "plot(seq(0, 1, by = 0.05), n_species)"
      ],
      "metadata": {
        "id": "9dWpfCnEpu7v",
        "outputId": "4576885b-e5da-4741-b088-8fea23a9024a",
        "colab": {
          "base_uri": "https://localhost:8080/",
          "height": 437
        }
      },
      "execution_count": 96,
      "outputs": [
        {
          "output_type": "display_data",
          "data": {
            "text/plain": [
              "plot without title"
            ],
            "image/png": "[encoded data removed]"
          },
          "metadata": {
            "image/png": {
              "width": 420,
              "height": 420
            }
          }
        }
      ]
    },
    {
      "cell_type": "markdown",
      "metadata": {
        "id": "mc1xgK87y0Ku"
      },
      "source": [
        "iv) What $\\alpha$ value minimizes the number of false positives (non-cancer patients that are predicted to have cancer)? What $\\alpha$ value minimizes the number of false negatives (cancer patients that are predicted to not have cancer)?"
      ]
    },
    {
      "cell_type": "code",
      "execution_count": 106,
      "metadata": {
        "id": "HawKGXeey0Ku",
        "colab": {
          "base_uri": "https://localhost:8080/",
          "height": 52
        },
        "outputId": "1d3fd4aa-6ecd-4ed7-e836-a2f5a2610396"
      },
      "outputs": [
        {
          "output_type": "display_data",
          "data": {
            "text/html": [
              "<strong>$`0`</strong> = 0"
            ],
            "text/markdown": "**$`0`** = 0",
            "text/latex": "\\textbf{\\$`0`} = 0",
            "text/plain": [
              "$`0`\n",
              "[1] 0\n"
            ]
          },
          "metadata": {}
        },
        {
          "output_type": "display_data",
          "data": {
            "text/html": [
              "<strong>$`0.65`</strong> = 2"
            ],
            "text/markdown": "**$`0.65`** = 2",
            "text/latex": "\\textbf{\\$`0.65`} = 2",
            "text/plain": [
              "$`0.65`\n",
              "[1] 2\n"
            ]
          },
          "metadata": {}
        }
      ],
      "source": [
        "list1 <- false_pos\n",
        "names(list1) <- c(seq(0, 1, by=0.05))\n",
        "list1[which.min(list1)]\n",
        "\n",
        "list1 <- false_neg\n",
        "names(list1) <- c(seq(0, 1, by=0.05))\n",
        "list1[which.min(list1)]"
      ]
    },
    {
      "cell_type": "markdown",
      "source": [
        "When alpha=0 it minimizes the number of false positives, and when alpha=0.65 it minimizes the number of false negatives."
      ],
      "metadata": {
        "id": "jNNATMutq9rK"
      }
    }
  ],
  "metadata": {
    "kernelspec": {
      "display_name": "R",
      "language": "R",
      "name": "ir"
    },
    "language_info": {
      "codemirror_mode": "r",
      "file_extension": ".r",
      "mimetype": "text/x-r-source",
      "name": "R",
      "pygments_lexer": "r",
      "version": "3.6.1"
    },
    "colab": {
      "name": "Math227C20Sp_P09_ElasticNet.ipynb",
      "provenance": [],
      "include_colab_link": true
    }
  },
  "nbformat": 4,
  "nbformat_minor": 0
}