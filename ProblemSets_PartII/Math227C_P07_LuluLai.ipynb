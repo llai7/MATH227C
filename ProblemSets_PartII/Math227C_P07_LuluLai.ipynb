{
  "cells": [
    {
      "cell_type": "markdown",
      "metadata": {
        "id": "view-in-github",
        "colab_type": "text"
      },
      "source": [
        "<a href=\"https://colab.research.google.com/github/llai7/MATH227C/blob/main/ProblemSets_PartII/Math227C_P07_LuluLai.ipynb\" target=\"_parent\"><img src=\"https://colab.research.google.com/assets/colab-badge.svg\" alt=\"Open In Colab\"/></a>"
      ]
    },
    {
      "cell_type": "markdown",
      "metadata": {
        "id": "LvtiwzjxVT74"
      },
      "source": [
        "# Math 227C Problem Set 7"
      ]
    },
    {
      "cell_type": "markdown",
      "metadata": {
        "id": "30TMBdtxVT79"
      },
      "source": [
        "How does the size of the mitochondria in a cell depend on the size of the cell itself?"
      ]
    },
    {
      "cell_type": "code",
      "execution_count": 1,
      "metadata": {
        "id": "wU86cqU9VT7-",
        "outputId": "01188ad4-7779-43da-e787-469cde876fc4",
        "colab": {
          "base_uri": "https://localhost:8080/",
          "height": 197
        }
      },
      "outputs": [
        {
          "output_type": "display_data",
          "data": {
            "text/plain": [
              "plot without title"
            ],
            "image/png": "[encoded data removed]"
          },
          "metadata": {
            "image/png": {
              "width": 240,
              "height": 180
            }
          }
        }
      ],
      "source": [
        "# plot settings\n",
        "options(repr.plot.width=4, repr.plot.height=3)\n",
        "\n",
        "# Simulate power-law data\n",
        "\n",
        "N <- 30\n",
        "alpha <- 2.3\n",
        "Y0 <- 100\n",
        "sigma <- 500\n",
        "\n",
        "CellSize <- runif(N,3,10) # independent variable\n",
        "eps <- rnorm(N,0,sigma) # residuals\n",
        "\n",
        "MitoSize <- Y0*CellSize^alpha + eps\n",
        "\n",
        "plot(CellSize,MitoSize)"
      ]
    },
    {
      "cell_type": "markdown",
      "metadata": {
        "id": "R-Rm8XXqVT8H"
      },
      "source": [
        "## Part 1 \n",
        "\n",
        "__(a)__ Use nonlinear least squares (`nls`) to estimate the parameter $\\alpha$ from the simulated data. Use (`b=1,a=5`) as starting guesses in the `nls` function."
      ]
    },
    {
      "cell_type": "code",
      "execution_count": 5,
      "metadata": {
        "id": "tAogIJVDVT8H",
        "outputId": "37607ae9-f47e-4cd4-dd00-2970394afd2e",
        "colab": {
          "base_uri": "https://localhost:8080/",
          "height": 214
        }
      },
      "outputs": [
        {
          "output_type": "display_data",
          "data": {
            "text/html": [
              "<style>\n",
              ".dl-inline {width: auto; margin:0; padding: 0}\n",
              ".dl-inline>dt, .dl-inline>dd {float: none; width: auto; display: inline-block}\n",
              ".dl-inline>dt::after {content: \":\\0020\"; padding-right: .5ex}\n",
              ".dl-inline>dt:not(:first-of-type) {padding-left: .5ex}\n",
              "</style><dl class=dl-inline><dt>b</dt><dd>105.889461325498</dd><dt>a</dt><dd>2.272020355833</dd></dl>\n"
            ],
            "text/markdown": "b\n:   105.889461325498a\n:   2.272020355833\n\n",
            "text/latex": "\\begin{description*}\n\\item[b] 105.889461325498\n\\item[a] 2.272020355833\n\\end{description*}\n",
            "text/plain": [
              "        b         a \n",
              "105.88946   2.27202 "
            ]
          },
          "metadata": {}
        },
        {
          "output_type": "display_data",
          "data": {
            "text/plain": [
              "plot without title"
            ],
            "image/png": "[encoded data removed]"
          },
          "metadata": {
            "image/png": {
              "width": 240,
              "height": 180
            }
          }
        }
      ],
      "source": [
        "modelMitoSize <- nls(MitoSize~b*CellSize^a, start=list(b=1,a=5))\n",
        "\n",
        "coef(modelMitoSize) # show coefficients\n",
        "\n",
        "plot(CellSize,MitoSize)\n",
        "\n",
        "# plot model prediction\n",
        "cellSizeAxis <- seq(0,10,length=100)\n",
        "b <- coef(modelMitoSize)[1]\n",
        "a <- coef(modelMitoSize)[2]\n",
        "mitoSizePrediction <- b*cellSizeAxis^a\n",
        "\n",
        "lines(cellSizeAxis,mitoSizePrediction,col=\"red\",lty=2,lwd=3)"
      ]
    },
    {
      "cell_type": "code",
      "execution_count": 9,
      "metadata": {
        "id": "k0wUlcOHVT8H",
        "outputId": "32f2a934-673f-4136-d3a7-587042f1ab96",
        "colab": {
          "base_uri": "https://localhost:8080/"
        }
      },
      "outputs": [
        {
          "output_type": "stream",
          "name": "stdout",
          "text": [
            "         a \n",
            "0.02797964 \n"
          ]
        }
      ],
      "source": [
        "eps <- abs(a-alpha)\n",
        "print(eps)"
      ]
    },
    {
      "cell_type": "markdown",
      "metadata": {
        "id": "j25bB2ULVT8I"
      },
      "source": [
        "Define the __error__ as $e=|\\hat{\\alpha}-\\alpha|$ where $\\hat{\\alpha}$ is the estimate and $\\alpha$ is the true value (which is known because this is simulated data). \n",
        "\n",
        "__(b)__ Write a function to execute the simulation and nls fitting, taking in the true model parameters $\\alpha, y_0, \\sigma$ and the sample size $N$. Plot the error in $\\alpha$ estimation, $e$, as a function of the magnitude of the noise, $\\sigma$, for a range of $\\sigma=(100,2000)$. "
      ]
    },
    {
      "cell_type": "code",
      "execution_count": null,
      "metadata": {
        "id": "DA5xNQciVT8I"
      },
      "outputs": [],
      "source": [
        "func <- function(alpha, y0, sigma, N){\n",
        "  modelMitoSize <- nls(MitoSize~b*CellSize^a, start=list(b=1,a=5))\n",
        "\n",
        "  coef(modelMitoSize) # show coefficients\n",
        "\n",
        "  plot(CellSize,MitoSize)\n",
        "\n",
        "  # plot model prediction\n",
        "  cellSizeAxis <- seq(0,10,length=100)\n",
        "  b <- coef(modelMitoSize)[1]\n",
        "  a <- coef(modelMitoSize)[2]\n",
        "  mitoSizePrediction <- b*cellSizeAxis^a\n",
        "\n",
        "lines(cellSizeAxis,mitoSizePrediction,col=\"red\",lty=2,lwd=3)\n",
        "}"
      ]
    },
    {
      "cell_type": "markdown",
      "metadata": {
        "id": "UarwAJEFVT8I"
      },
      "source": [
        "## Part 2\n",
        "\n",
        "__(a)__ Transform the simulated data to $lY = \\mbox{log}(y)$ and $lX = \\mbox{log}(x)$. Use linear regression model fit (lm) to estimate the parameter $\\alpha$ from the simulated data."
      ]
    },
    {
      "cell_type": "code",
      "execution_count": 10,
      "metadata": {
        "id": "nKMNHrHzVT8J",
        "outputId": "1e6fbb2e-9f8f-4368-c3c4-ef8f6bde7b9a",
        "colab": {
          "base_uri": "https://localhost:8080/",
          "height": 197
        }
      },
      "outputs": [
        {
          "output_type": "display_data",
          "data": {
            "text/plain": [
              "plot without title"
            ],
            "image/png": "[encoded data removed]"
          },
          "metadata": {
            "image/png": {
              "width": 240,
              "height": 180
            }
          }
        }
      ],
      "source": [
        "logMitoSize <- log(MitoSize)\n",
        "logCellSize <- log(CellSize)\n",
        "\n",
        "plot(logCellSize,logMitoSize)"
      ]
    },
    {
      "cell_type": "code",
      "source": [
        "linearModel = lm(logMitoSize~logCellSize)\n",
        "\n",
        "linearModel\n",
        "\n",
        "# plot residuals\n",
        "plot(logCellSize,resid(linearModel))\n",
        "abline(0,0)"
      ],
      "metadata": {
        "id": "3r_j2xGdY2aI",
        "outputId": "d3c460fb-7050-42ad-e196-0fa9177011a8",
        "colab": {
          "base_uri": "https://localhost:8080/",
          "height": 322
        }
      },
      "execution_count": 11,
      "outputs": [
        {
          "output_type": "display_data",
          "data": {
            "text/plain": [
              "\n",
              "Call:\n",
              "lm(formula = logMitoSize ~ logCellSize)\n",
              "\n",
              "Coefficients:\n",
              "(Intercept)  logCellSize  \n",
              "      3.756        2.752  \n"
            ]
          },
          "metadata": {}
        },
        {
          "output_type": "display_data",
          "data": {
            "text/plain": [
              "plot without title"
            ],
            "image/png": "[encoded data removed]"
          },
          "metadata": {
            "image/png": {
              "width": 240,
              "height": 180
            }
          }
        }
      ]
    },
    {
      "cell_type": "markdown",
      "metadata": {
        "id": "yxe57O3xVT8J"
      },
      "source": [
        "__(b)__ Write a function that executes the simulation, log-transforms the data, and performs linear regression fitting. Plot the error in $\\alpha$ estimation, $e$, as a function of the magnitude of the noise, $\\sigma$, for a range of $\\sigma=(100,2000)$. \n",
        "\n",
        "Note you may need additional code to handle negative measurements.\n",
        "\n",
        "__(c)__ Overplot the error in $\\alpha$ from nls and the error from lm (as functions of $\\sigma$). "
      ]
    },
    {
      "cell_type": "code",
      "execution_count": null,
      "metadata": {
        "id": "UpS3tDKTVT8K"
      },
      "outputs": [],
      "source": [
        ""
      ]
    },
    {
      "cell_type": "markdown",
      "metadata": {
        "id": "Tdzs-XeUVT8K"
      },
      "source": [
        "## Part 3\n",
        "\n",
        "In the above simulations, the independent variable $X$ was chosen from a uniform distribution.\n",
        "\n",
        "__(a)__ Find a distribution of $X$ data that makes a very big difference between error from nls and error from lm.\n",
        "\n",
        "__(b)__ Find a distribution of $X$ data that makes a very small difference between the error from nls and error from lm."
      ]
    },
    {
      "cell_type": "code",
      "execution_count": null,
      "metadata": {
        "id": "DLMbMqdoVT8K"
      },
      "outputs": [],
      "source": [
        ""
      ]
    }
  ],
  "metadata": {
    "kernelspec": {
      "display_name": "R",
      "language": "R",
      "name": "ir"
    },
    "language_info": {
      "codemirror_mode": "r",
      "file_extension": ".r",
      "mimetype": "text/x-r-source",
      "name": "R",
      "pygments_lexer": "r",
      "version": "3.6.1"
    },
    "colab": {
      "name": "Math227C20Sp_P07_PowerLaws.ipynb",
      "provenance": [],
      "include_colab_link": true
    }
  },
  "nbformat": 4,
  "nbformat_minor": 0
}