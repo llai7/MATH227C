{
  "cells": [
    {
      "cell_type": "markdown",
      "metadata": {
        "id": "view-in-github",
        "colab_type": "text"
      },
      "source": [
        "<a href=\"https://colab.research.google.com/github/llai7/MATH227C/blob/main/Math227C20Sp_P10_LuluLai.ipynb\" target=\"_parent\"><img src=\"https://colab.research.google.com/assets/colab-badge.svg\" alt=\"Open In Colab\"/></a>"
      ]
    },
    {
      "cell_type": "markdown",
      "metadata": {
        "id": "PsqUplVhhALb"
      },
      "source": [
        "# Problem set 10\n",
        "\n",
        "## Part I\n",
        "\n",
        "The concept that all our estimators have their own distribution, and therefore their own standard deviation, seems like a new concept but we are already familiar with one example:\n",
        "\n",
        "For $N_{\\rm obs}$ normal random variables with mean $\\mu$ and standard deviation $\\sigma$, our estimate of the mean, $\\hat{\\mu}$, has a distribution with standard deviation $\\sigma/\\sqrt{N_{\\rm obs}}$. In reality, we do not know $\\mu$ or $\\sigma$ (if we did, why would we be estimating them!), so we approximate the standard deviation of $\\hat{mu}$ with $\\hat{\\sigma}/\\sqrt{N_{\\rm obs}}$. This is called the __standard error of the mean__.\n",
        "\n",
        "In this problem, we will explore whether the nonparametric bootstrap estimate of the standard deviation of $\\hat{mu}$ agrees with the familiar formula of the standard error of the mean.\n",
        "\n",
        "\n",
        "### 1.1 A single nonparametric bootstrap\n",
        "\n",
        "The following code generates a sample of $N_{\\rm obs}=20$ normal random variables.\n"
      ]
    },
    {
      "cell_type": "code",
      "execution_count": 9,
      "metadata": {
        "id": "lAmXVbOOhALf",
        "outputId": "d7029031-3c51-4925-a5a3-4aa2b00faf47",
        "colab": {
          "base_uri": "https://localhost:8080/",
          "height": 69
        }
      },
      "outputs": [
        {
          "output_type": "display_data",
          "data": {
            "text/html": [
              "<style>\n",
              ".list-inline {list-style: none; margin:0; padding: 0}\n",
              ".list-inline>li {display: inline-block}\n",
              ".list-inline>li:not(:last-child)::after {content: \"\\00b7\"; padding: 0 .5ex}\n",
              "</style>\n",
              "<ol class=list-inline><li>170.519908890018</li><li>180.322084223087</li><li>167.988893789838</li><li>197.402897705867</li><li>182.087044038966</li><li>168.172332552172</li><li>183.997891534385</li><li>187.033728932064</li><li>185.066954355007</li><li>174.404800515408</li><li>196.392552138255</li><li>182.817103160578</li><li>170.582988975444</li><li>151.302131365152</li><li>191.711664109532</li><li>177.556303330916</li><li>177.904097816503</li><li>189.520418149292</li><li>188.036776460687</li><li>185.286205986732</li></ol>\n"
            ],
            "text/markdown": "1. 170.519908890018\n2. 180.322084223087\n3. 167.988893789838\n4. 197.402897705867\n5. 182.087044038966\n6. 168.172332552172\n7. 183.997891534385\n8. 187.033728932064\n9. 185.066954355007\n10. 174.404800515408\n11. 196.392552138255\n12. 182.817103160578\n13. 170.582988975444\n14. 151.302131365152\n15. 191.711664109532\n16. 177.556303330916\n17. 177.904097816503\n18. 189.520418149292\n19. 188.036776460687\n20. 185.286205986732\n\n\n",
            "text/latex": "\\begin{enumerate*}\n\\item 170.519908890018\n\\item 180.322084223087\n\\item 167.988893789838\n\\item 197.402897705867\n\\item 182.087044038966\n\\item 168.172332552172\n\\item 183.997891534385\n\\item 187.033728932064\n\\item 185.066954355007\n\\item 174.404800515408\n\\item 196.392552138255\n\\item 182.817103160578\n\\item 170.582988975444\n\\item 151.302131365152\n\\item 191.711664109532\n\\item 177.556303330916\n\\item 177.904097816503\n\\item 189.520418149292\n\\item 188.036776460687\n\\item 185.286205986732\n\\end{enumerate*}\n",
            "text/plain": [
              " [1] 170.5199 180.3221 167.9889 197.4029 182.0870 168.1723 183.9979 187.0337\n",
              " [9] 185.0670 174.4048 196.3926 182.8171 170.5830 151.3021 191.7117 177.5563\n",
              "[17] 177.9041 189.5204 188.0368 185.2862"
            ]
          },
          "metadata": {}
        }
      ],
      "source": [
        "set.seed(1)\n",
        "NObs <- 20"
      ]
    },
    {
      "cell_type": "markdown",
      "metadata": {
        "id": "lNeYqbDchALi"
      },
      "source": [
        "__(a)__ Perform a non-parametric boostrap, with 1000 resamplings, on the above data and estimate the mean $\\hat{\\mu}$ and the standard deviation $\\hat{\\sigma}$ each time. Output the standard deviation of $\\hat{\\mu}$. (In this block, the sample size is fixed at $N_{\\rm obs}=20$.)"
      ]
    },
    {
      "cell_type": "code",
      "source": [
        "NResample <- 1000\n",
        "\n",
        "# initialize an array to store all the estimates\n",
        "rate_hatArray <-0\n",
        "sd_array <-0\n",
        "\n",
        "for (iResample in 1:NResample){\n",
        "\n",
        "    NObservations <- 20\n",
        "    observations = rexp(NObservations,rate=2.63)\n",
        "    resampledObservations <- sample(observations, size=NObservations, replace = TRUE)\n",
        "   \n",
        "    # parameter estimation technique goes here\n",
        "    rate_hat <- mean(resampledObservations)\n",
        "    rate_hatArray[iResample] = rate_hat\n",
        "\n",
        "    sd_array_temp <- sd(resampledObservations)\n",
        "    sd_array[iResample] = sd_array_temp\n",
        "    \n",
        "}\n",
        "\n",
        "sd(rate_hatArray)"
      ],
      "metadata": {
        "id": "1MRpI7zthl03",
        "outputId": "7878fc7f-9e43-4af1-f408-58214314f443",
        "colab": {
          "base_uri": "https://localhost:8080/",
          "height": 34
        }
      },
      "execution_count": 70,
      "outputs": [
        {
          "output_type": "display_data",
          "data": {
            "text/html": [
              "0.119642910815438"
            ],
            "text/markdown": "0.119642910815438",
            "text/latex": "0.119642910815438",
            "text/plain": [
              "[1] 0.1196429"
            ]
          },
          "metadata": {}
        }
      ]
    },
    {
      "cell_type": "markdown",
      "metadata": {
        "id": "MDh2t0LrhALj"
      },
      "source": [
        "__(b)__ Repeat the above, but in a loop, with $N_{\\rm obs}$ ranging from 10 to 10000. (This is a big loop. If it is slow on your computational machine, feel free to skip, e.g., every tenth or 20th value of $N_{\\rm obs}$.) Compute the standard deviation of $\\hat{\\mu}$ from non-parametric bootstrap for each value of $N_{\\rm obs}$. Store the value of $\\hat{\\sigma}$ for each value of $N_{\\rm obs}$ (because you will need it below).\n",
        "\n",
        "Plot the standard deviation of $\\hat{\\mu}$ from non-parametric bootstrap versus $N_{\\rm obs}$.\n",
        "\n",
        "On the same axis, plot $\\hat{\\sigma}/\\sqrt{N_{\\rm obs}}$ versus $N_{\\rm obs}$.\n",
        "\n",
        "Do they agree?"
      ]
    },
    {
      "cell_type": "code",
      "execution_count": 76,
      "metadata": {
        "id": "I8IaL003hALj"
      },
      "outputs": [],
      "source": [
        "sd_list <-list()\n",
        "sd_mu <- list()\n",
        "\n",
        "\n",
        "for (n in seq(10,10000,by=50)){\n",
        "  NResample <- 1000\n",
        "  rate_hatArray <-0\n",
        "\n",
        "  for (iResample in 1:NResample){\n",
        "    #print(n)\n",
        "    NObservations <- n\n",
        "    observations = rexp(NObservations,rate=2.63)\n",
        "    resampledObservations <- sample(observations, size=NObservations, replace = TRUE)\n",
        "   \n",
        "    # parameter estimation technique goes here\n",
        "    rate_hat <- mean(resampledObservations)\n",
        "    rate_hatArray[iResample] = rate_hat\n",
        "\n",
        "  }\n",
        "      sd_list <- c(sd_list, sd(resampledObservations))\n",
        "      sd_mu <- c(sd_mu, sd(rate_hatArray))\n",
        "}"
      ]
    },
    {
      "cell_type": "code",
      "source": [
        "length(sd_mu)"
      ],
      "metadata": {
        "id": "HuN7AlMYSOAm",
        "outputId": "96175a42-a655-4603-e5c4-a24f16131e68",
        "colab": {
          "base_uri": "https://localhost:8080/",
          "height": 34
        }
      },
      "execution_count": 77,
      "outputs": [
        {
          "output_type": "display_data",
          "data": {
            "text/html": [
              "200"
            ],
            "text/markdown": "200",
            "text/latex": "200",
            "text/plain": [
              "[1] 200"
            ]
          },
          "metadata": {}
        }
      ]
    },
    {
      "cell_type": "code",
      "source": [
        "data_frame <-\n",
        "  data.frame(\n",
        "    Nobs = seq(10,10000,by=50),\n",
        "    sd_mu = unlist(sd_mu),\n",
        "    sd = unlist(sd_list)/sqrt(seq(10,10000,by=50))\n",
        "  )"
      ],
      "metadata": {
        "id": "Ze2cXMGUfKE2"
      },
      "execution_count": 80,
      "outputs": []
    },
    {
      "cell_type": "code",
      "source": [
        "library(ggplot2)"
      ],
      "metadata": {
        "id": "d5ux7dlaPlGJ"
      },
      "execution_count": 64,
      "outputs": []
    },
    {
      "cell_type": "code",
      "source": [
        "p = ggplot() + \n",
        "  geom_line(data = data_frame, aes(x = Nobs, y = sd_mu), color = \"blue\") +\n",
        "  geom_line(data = data_frame, aes(x = Nobs, y = sd), color = \"red\") +\n",
        "  xlab('Nobs') +\n",
        "  ylab('Standard deviations')\n",
        "\n",
        "print(p)"
      ],
      "metadata": {
        "id": "pZ-1r6B7bkdV",
        "outputId": "f9c7f29c-a045-48d3-a221-3556cf4708c8",
        "colab": {
          "base_uri": "https://localhost:8080/",
          "height": 437
        }
      },
      "execution_count": 81,
      "outputs": [
        {
          "output_type": "display_data",
          "data": {
            "text/plain": [
              "plot without title"
            ],
            "image/png": "[encoded data removed]"
          },
          "metadata": {
            "image/png": {
              "width": 420,
              "height": 420
            }
          }
        }
      ]
    },
    {
      "cell_type": "markdown",
      "source": [
        "The two don't seem to be exactly the same but the overall trend agrees with each other in my opinion."
      ],
      "metadata": {
        "id": "q1J2hxRdcz7j"
      }
    },
    {
      "cell_type": "markdown",
      "metadata": {
        "id": "REtvz9yEhALk"
      },
      "source": [
        "## Part II: Bootstrap on coefficient of linear regression\n",
        "\n",
        "__(Out of class)__\n",
        "\n",
        "__(EXAMPLE IS IDENTICAL TO IN-CLASS NOTEBOOK)__\n",
        "\n",
        "The code below simulates some linear data with noise. Linear regression using lm will yield estimates for the parameters beta0 and beta1 (and sigma, which we will not focus on in this problem). "
      ]
    },
    {
      "cell_type": "code",
      "execution_count": null,
      "metadata": {
        "id": "Px38QO_HhALl"
      },
      "outputs": [],
      "source": [
        "# Simulate some linear data with noise\n",
        "NObs <- 20\n",
        "beta0 <- 10.5\n",
        "beta1 <- 2.6\n",
        "sigma <- 1.4\n",
        "\n",
        "X <- seq(0,10,length=NObs)\n",
        "eps <- rnorm(N,0,sigma)\n",
        "\n",
        "Y <- beta0 + beta1*X +eps\n",
        "\n",
        "plot(X,Y)"
      ]
    },
    {
      "cell_type": "markdown",
      "metadata": {
        "id": "q5xqS44shALl"
      },
      "source": [
        "__(a)__ In a loop, repeat the simulation and perform lm estimation, 1000 times. This will yield a distribution of estimates for beta_0 and beta_1. Plot histograms of these. Output the quantiles of these. (Note in reality one would not have this ability.)"
      ]
    },
    {
      "cell_type": "code",
      "execution_count": null,
      "metadata": {
        "id": "ch0-6s1LhALm"
      },
      "outputs": [],
      "source": [
        "NResample <- 1000\n",
        "\n",
        "# initialize an array to store all the estimates\n",
        "beta0_hatArray <-0\n",
        "beta1_hatArray <-0\n",
        "\n",
        "for (iResample in 1:NResample){\n",
        "\n",
        "    thisSampleRows <- sample(NResample, replace = TRUE) # which rows of X and Y to take in this resample\n",
        "    Y_thisSample = Y[thisSampleRows]\n",
        "    X_thisSample = X[thisSampleRows]\n",
        "    \n",
        "    # parameter estimation technique goes here\n",
        "    thisFit = lm(Y_thisSample~X_thisSample)\n",
        "    \n",
        "    beta0_hatArray[iResample] = coef(thisFit)[1]\n",
        "    beta1_hatArray[iResample] = coef(thisFit)[2]\n",
        "    \n",
        "}\n",
        "\n",
        "hist(beta0_hatArray)\n",
        "hist(beta1_hatArray)"
      ]
    },
    {
      "cell_type": "markdown",
      "metadata": {
        "id": "GU3-WeujhALm"
      },
      "source": [
        "__(b)__ In reality, assume we only have 1 instance (in this example, with NObs=20 data points). \n",
        "\n",
        "Perform the simulation once to generate one data set with 20 points."
      ]
    },
    {
      "cell_type": "code",
      "execution_count": null,
      "metadata": {
        "id": "IDZbc_1RhALm"
      },
      "outputs": [],
      "source": [
        ""
      ]
    },
    {
      "cell_type": "markdown",
      "metadata": {
        "id": "A7_u6vY8hALn"
      },
      "source": [
        "__(c)__ Write code to perform non-parametric bootstrap on this data set. For a linear model like this, the resampling should be random pairs of X,Y data (so, to be clear, the resampling does not mix an X-value with a Y-value it did not belong with). \n",
        "\n",
        "Using the distribution of estimates for beta_0 and beta_1 from this non-parametric bootstrap, plot histograms and output quantiles. Compare with the \"true\" distributions from above."
      ]
    },
    {
      "cell_type": "code",
      "execution_count": null,
      "metadata": {
        "id": "_mSM6Mk4hALn"
      },
      "outputs": [],
      "source": [
        "NResample <- 1000\n",
        "\n",
        "# initialize an array to store all the estimates\n",
        "beta0_hatArray <-0\n",
        "beta1_hatArray <-0\n",
        "\n",
        "for (iResample in 1:NResample){\n",
        "\n",
        "    thisSampleRows <- sample(NResample, replace = TRUE) # which rows of X and Y to take in this resample\n",
        "    Y_thisSample = Y[thisSampleRows]\n",
        "    X_thisSample = X[thisSampleRows]\n",
        "    \n",
        "    # parameter estimation technique goes here\n",
        "    thisFit = lm(Y_thisSample~X_thisSample)\n",
        "    \n",
        "    beta0_hatArray[iResample] = coef(thisFit)[1]\n",
        "    beta1_hatArray[iResample] = coef(thisFit)[2]\n",
        "    \n",
        "}\n",
        "\n",
        "hist(beta0_hatArray)\n",
        "hist(beta1_hatArray)"
      ]
    }
  ],
  "metadata": {
    "kernelspec": {
      "display_name": "R",
      "language": "R",
      "name": "ir"
    },
    "language_info": {
      "codemirror_mode": "r",
      "file_extension": ".r",
      "mimetype": "text/x-r-source",
      "name": "R",
      "pygments_lexer": "r",
      "version": "3.6.1"
    },
    "colab": {
      "name": "Math227C20Sp_P10_Bootstrap.ipynb",
      "provenance": [],
      "include_colab_link": true
    }
  },
  "nbformat": 4,
  "nbformat_minor": 0
}